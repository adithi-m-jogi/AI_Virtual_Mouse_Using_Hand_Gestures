{
 "cells": [
  {
   "cell_type": "code",
   "execution_count": 2,
   "id": "349cc873",
   "metadata": {},
   "outputs": [
    {
     "name": "stdout",
     "output_type": "stream",
     "text": [
      "Defaulting to user installation because normal site-packages is not writeable\n",
      "Collecting opencv-python\n",
      "  Downloading opencv_python-4.11.0.86-cp37-abi3-win_amd64.whl.metadata (20 kB)\n",
      "Requirement already satisfied: numpy>=1.21.2 in c:\\programdata\\anaconda3\\lib\\site-packages (from opencv-python) (1.26.4)\n",
      "Downloading opencv_python-4.11.0.86-cp37-abi3-win_amd64.whl (39.5 MB)\n",
      "   ---------------------------------------- 0.0/39.5 MB ? eta -:--:--\n",
      "   ---------------------------------------- 0.3/39.5 MB ? eta -:--:--\n",
      "    --------------------------------------- 0.8/39.5 MB 2.2 MB/s eta 0:00:18\n",
      "   - -------------------------------------- 1.0/39.5 MB 2.2 MB/s eta 0:00:18\n",
      "   - -------------------------------------- 1.3/39.5 MB 1.8 MB/s eta 0:00:22\n",
      "   - -------------------------------------- 1.3/39.5 MB 1.8 MB/s eta 0:00:22\n",
      "   - -------------------------------------- 1.8/39.5 MB 1.5 MB/s eta 0:00:25\n",
      "   -- ------------------------------------- 2.1/39.5 MB 1.5 MB/s eta 0:00:25\n",
      "   -- ------------------------------------- 2.6/39.5 MB 1.6 MB/s eta 0:00:23\n",
      "   --- ------------------------------------ 3.4/39.5 MB 1.8 MB/s eta 0:00:20\n",
      "   ---- ----------------------------------- 4.2/39.5 MB 2.0 MB/s eta 0:00:18\n",
      "   ---- ----------------------------------- 4.7/39.5 MB 2.1 MB/s eta 0:00:17\n",
      "   ----- ---------------------------------- 5.2/39.5 MB 2.2 MB/s eta 0:00:16\n",
      "   ----- ---------------------------------- 5.8/39.5 MB 2.1 MB/s eta 0:00:16\n",
      "   ------ --------------------------------- 6.3/39.5 MB 2.2 MB/s eta 0:00:16\n",
      "   ------ --------------------------------- 6.6/39.5 MB 2.2 MB/s eta 0:00:15\n",
      "   ------- -------------------------------- 7.3/39.5 MB 2.2 MB/s eta 0:00:15\n",
      "   ------- -------------------------------- 7.9/39.5 MB 2.2 MB/s eta 0:00:15\n",
      "   -------- ------------------------------- 8.4/39.5 MB 2.2 MB/s eta 0:00:14\n",
      "   --------- ------------------------------ 9.2/39.5 MB 2.3 MB/s eta 0:00:14\n",
      "   ---------- ----------------------------- 10.0/39.5 MB 2.4 MB/s eta 0:00:13\n",
      "   ---------- ----------------------------- 10.7/39.5 MB 2.4 MB/s eta 0:00:12\n",
      "   ---------- ----------------------------- 10.7/39.5 MB 2.4 MB/s eta 0:00:12\n",
      "   ----------- ---------------------------- 11.0/39.5 MB 2.3 MB/s eta 0:00:13\n",
      "   ----------- ---------------------------- 11.5/39.5 MB 2.3 MB/s eta 0:00:13\n",
      "   ------------ --------------------------- 12.3/39.5 MB 2.3 MB/s eta 0:00:12\n",
      "   ------------ --------------------------- 12.6/39.5 MB 2.3 MB/s eta 0:00:12\n",
      "   ------------- -------------------------- 13.6/39.5 MB 2.4 MB/s eta 0:00:11\n",
      "   -------------- ------------------------- 14.2/39.5 MB 2.4 MB/s eta 0:00:11\n",
      "   -------------- ------------------------- 14.7/39.5 MB 2.4 MB/s eta 0:00:11\n",
      "   --------------- ------------------------ 15.5/39.5 MB 2.4 MB/s eta 0:00:10\n",
      "   ---------------- ----------------------- 16.0/39.5 MB 2.4 MB/s eta 0:00:10\n",
      "   ---------------- ----------------------- 16.5/39.5 MB 2.4 MB/s eta 0:00:10\n",
      "   ----------------- ---------------------- 17.0/39.5 MB 2.5 MB/s eta 0:00:10\n",
      "   ----------------- ---------------------- 17.6/39.5 MB 2.5 MB/s eta 0:00:09\n",
      "   ------------------ --------------------- 18.6/39.5 MB 2.5 MB/s eta 0:00:09\n",
      "   ------------------- -------------------- 19.1/39.5 MB 2.5 MB/s eta 0:00:09\n",
      "   -------------------- ------------------- 19.9/39.5 MB 2.6 MB/s eta 0:00:08\n",
      "   -------------------- ------------------- 20.4/39.5 MB 2.6 MB/s eta 0:00:08\n",
      "   -------------------- ------------------- 20.4/39.5 MB 2.6 MB/s eta 0:00:08\n",
      "   --------------------- ------------------ 21.0/39.5 MB 2.5 MB/s eta 0:00:08\n",
      "   ---------------------- ----------------- 21.8/39.5 MB 2.5 MB/s eta 0:00:08\n",
      "   ---------------------- ----------------- 22.3/39.5 MB 2.5 MB/s eta 0:00:07\n",
      "   ----------------------- ---------------- 23.1/39.5 MB 2.5 MB/s eta 0:00:07\n",
      "   ------------------------ --------------- 23.9/39.5 MB 2.6 MB/s eta 0:00:07\n",
      "   ------------------------- -------------- 24.9/39.5 MB 2.6 MB/s eta 0:00:06\n",
      "   ------------------------- -------------- 25.2/39.5 MB 2.6 MB/s eta 0:00:06\n",
      "   -------------------------- ------------- 25.7/39.5 MB 2.6 MB/s eta 0:00:06\n",
      "   -------------------------- ------------- 26.5/39.5 MB 2.6 MB/s eta 0:00:05\n",
      "   --------------------------- ------------ 27.3/39.5 MB 2.6 MB/s eta 0:00:05\n",
      "   ---------------------------- ----------- 27.8/39.5 MB 2.6 MB/s eta 0:00:05\n",
      "   ----------------------------- ---------- 28.8/39.5 MB 2.7 MB/s eta 0:00:05\n",
      "   ----------------------------- ---------- 29.1/39.5 MB 2.7 MB/s eta 0:00:04\n",
      "   ------------------------------ --------- 29.9/39.5 MB 2.7 MB/s eta 0:00:04\n",
      "   ------------------------------- -------- 30.9/39.5 MB 2.7 MB/s eta 0:00:04\n",
      "   -------------------------------- ------- 31.7/39.5 MB 2.7 MB/s eta 0:00:03\n",
      "   --------------------------------- ------ 32.8/39.5 MB 2.7 MB/s eta 0:00:03\n",
      "   ---------------------------------- ----- 33.8/39.5 MB 2.8 MB/s eta 0:00:03\n",
      "   ---------------------------------- ----- 33.8/39.5 MB 2.8 MB/s eta 0:00:03\n",
      "   ---------------------------------- ----- 34.1/39.5 MB 2.7 MB/s eta 0:00:02\n",
      "   ----------------------------------- ---- 34.9/39.5 MB 2.7 MB/s eta 0:00:02\n",
      "   ----------------------------------- ---- 35.1/39.5 MB 2.7 MB/s eta 0:00:02\n",
      "   ------------------------------------ --- 35.7/39.5 MB 2.7 MB/s eta 0:00:02\n",
      "   ------------------------------------ --- 36.4/39.5 MB 2.7 MB/s eta 0:00:02\n",
      "   ------------------------------------- -- 37.2/39.5 MB 2.7 MB/s eta 0:00:01\n",
      "   -------------------------------------- - 38.0/39.5 MB 2.7 MB/s eta 0:00:01\n",
      "   ---------------------------------------  38.8/39.5 MB 2.8 MB/s eta 0:00:01\n",
      "   ---------------------------------------  39.3/39.5 MB 2.8 MB/s eta 0:00:01\n",
      "   ---------------------------------------- 39.5/39.5 MB 2.8 MB/s eta 0:00:00\n",
      "Installing collected packages: opencv-python\n",
      "Successfully installed opencv-python-4.11.0.86\n",
      "Note: you may need to restart the kernel to use updated packages.\n"
     ]
    }
   ],
   "source": [
    "pip install opencv-python"
   ]
  },
  {
   "cell_type": "code",
   "execution_count": null,
   "id": "9b2d9711",
   "metadata": {},
   "outputs": [
    {
     "name": "stdout",
     "output_type": "stream",
     "text": [
      "Defaulting to user installation because normal site-packages is not writeable\n",
      "Requirement already satisfied: mediapipe in c:\\users\\adithi\\appdata\\roaming\\python\\python312\\site-packages (0.10.21)\n",
      "Requirement already satisfied: absl-py in c:\\users\\adithi\\appdata\\roaming\\python\\python312\\site-packages (from mediapipe) (2.2.2)\n",
      "Requirement already satisfied: attrs>=19.1.0 in c:\\programdata\\anaconda3\\lib\\site-packages (from mediapipe) (23.1.0)\n",
      "Requirement already satisfied: flatbuffers>=2.0 in c:\\users\\adithi\\appdata\\roaming\\python\\python312\\site-packages (from mediapipe) (25.2.10)\n",
      "Requirement already satisfied: jax in c:\\users\\adithi\\appdata\\roaming\\python\\python312\\site-packages (from mediapipe) (0.6.1)\n",
      "Requirement already satisfied: jaxlib in c:\\users\\adithi\\appdata\\roaming\\python\\python312\\site-packages (from mediapipe) (0.6.1)\n",
      "Requirement already satisfied: matplotlib in c:\\programdata\\anaconda3\\lib\\site-packages (from mediapipe) (3.9.2)\n",
      "Requirement already satisfied: numpy<2 in c:\\programdata\\anaconda3\\lib\\site-packages (from mediapipe) (1.26.4)\n",
      "Requirement already satisfied: opencv-contrib-python in c:\\users\\adithi\\appdata\\roaming\\python\\python312\\site-packages (from mediapipe) (4.11.0.86)\n",
      "Requirement already satisfied: protobuf<5,>=4.25.3 in c:\\programdata\\anaconda3\\lib\\site-packages (from mediapipe) (4.25.3)\n",
      "Requirement already satisfied: sounddevice>=0.4.4 in c:\\users\\adithi\\appdata\\roaming\\python\\python312\\site-packages (from mediapipe) (0.5.2)\n",
      "Requirement already satisfied: sentencepiece in c:\\users\\adithi\\appdata\\roaming\\python\\python312\\site-packages (from mediapipe) (0.2.0)\n",
      "Requirement already satisfied: CFFI>=1.0 in c:\\programdata\\anaconda3\\lib\\site-packages (from sounddevice>=0.4.4->mediapipe) (1.17.1)\n",
      "Requirement already satisfied: ml_dtypes>=0.5.0 in c:\\users\\adithi\\appdata\\roaming\\python\\python312\\site-packages (from jax->mediapipe) (0.5.1)\n",
      "Requirement already satisfied: opt_einsum in c:\\users\\adithi\\appdata\\roaming\\python\\python312\\site-packages (from jax->mediapipe) (3.4.0)\n",
      "Requirement already satisfied: scipy>=1.11.1 in c:\\programdata\\anaconda3\\lib\\site-packages (from jax->mediapipe) (1.13.1)\n",
      "Requirement already satisfied: contourpy>=1.0.1 in c:\\programdata\\anaconda3\\lib\\site-packages (from matplotlib->mediapipe) (1.2.0)\n",
      "Requirement already satisfied: cycler>=0.10 in c:\\programdata\\anaconda3\\lib\\site-packages (from matplotlib->mediapipe) (0.11.0)\n",
      "Requirement already satisfied: fonttools>=4.22.0 in c:\\programdata\\anaconda3\\lib\\site-packages (from matplotlib->mediapipe) (4.51.0)\n",
      "Requirement already satisfied: kiwisolver>=1.3.1 in c:\\programdata\\anaconda3\\lib\\site-packages (from matplotlib->mediapipe) (1.4.4)\n",
      "Requirement already satisfied: packaging>=20.0 in c:\\programdata\\anaconda3\\lib\\site-packages (from matplotlib->mediapipe) (24.1)\n",
      "Requirement already satisfied: pillow>=8 in c:\\programdata\\anaconda3\\lib\\site-packages (from matplotlib->mediapipe) (10.4.0)\n",
      "Requirement already satisfied: pyparsing>=2.3.1 in c:\\programdata\\anaconda3\\lib\\site-packages (from matplotlib->mediapipe) (3.1.2)\n",
      "Requirement already satisfied: python-dateutil>=2.7 in c:\\programdata\\anaconda3\\lib\\site-packages (from matplotlib->mediapipe) (2.9.0.post0)\n",
      "Requirement already satisfied: pycparser in c:\\programdata\\anaconda3\\lib\\site-packages (from CFFI>=1.0->sounddevice>=0.4.4->mediapipe) (2.21)\n",
      "Requirement already satisfied: six>=1.5 in c:\\programdata\\anaconda3\\lib\\site-packages (from python-dateutil>=2.7->matplotlib->mediapipe) (1.16.0)\n"
     ]
    }
   ],
   "source": [
    "pip install mediapipe"
   ]
  },
  {
   "cell_type": "code",
   "execution_count": 2,
   "id": "419b186b",
   "metadata": {},
   "outputs": [
    {
     "name": "stdout",
     "output_type": "stream",
     "text": [
      "Name: mediapipe\n",
      "Version: 0.10.21\n",
      "Summary: MediaPipe is the simplest way for researchers and developers to build world-class ML solutions and applications for mobile, edge, cloud and the web.\n",
      "Home-page: https://github.com/google/mediapipe\n",
      "Author: The MediaPipe Authors\n",
      "Author-email: mediapipe@google.com\n",
      "License: Apache 2.0\n",
      "Location: C:\\Users\\Adithi\\AppData\\Roaming\\Python\\Python312\\site-packages\n",
      "Requires: absl-py, attrs, flatbuffers, jax, jaxlib, matplotlib, numpy, opencv-contrib-python, protobuf, sentencepiece, sounddevice\n",
      "Required-by: \n",
      "Note: you may need to restart the kernel to use updated packages.\n"
     ]
    }
   ],
   "source": [
    "pip show mediapipe"
   ]
  },
  {
   "cell_type": "code",
   "execution_count": 21,
   "id": "a52f44b2",
   "metadata": {},
   "outputs": [
    {
     "name": "stdout",
     "output_type": "stream",
     "text": [
      "Defaulting to user installation because normal site-packages is not writeable\n",
      "Collecting PyAutoGUI\n",
      "  Downloading PyAutoGUI-0.9.54.tar.gz (61 kB)\n",
      "  Installing build dependencies: started\n",
      "  Installing build dependencies: finished with status 'done'\n",
      "  Getting requirements to build wheel: started\n",
      "  Getting requirements to build wheel: finished with status 'done'\n",
      "  Preparing metadata (pyproject.toml): started\n",
      "  Preparing metadata (pyproject.toml): finished with status 'done'\n",
      "Collecting pymsgbox (from PyAutoGUI)\n",
      "  Downloading PyMsgBox-1.0.9.tar.gz (18 kB)\n",
      "  Installing build dependencies: started\n",
      "  Installing build dependencies: finished with status 'done'\n",
      "  Getting requirements to build wheel: started\n",
      "  Getting requirements to build wheel: finished with status 'done'\n",
      "  Preparing metadata (pyproject.toml): started\n",
      "  Preparing metadata (pyproject.toml): finished with status 'done'\n",
      "Collecting pytweening>=1.0.4 (from PyAutoGUI)\n",
      "  Downloading pytweening-1.2.0.tar.gz (171 kB)\n",
      "  Preparing metadata (setup.py): started\n",
      "  Preparing metadata (setup.py): finished with status 'done'\n",
      "Collecting pyscreeze>=0.1.21 (from PyAutoGUI)\n",
      "  Downloading pyscreeze-1.0.1.tar.gz (27 kB)\n",
      "  Installing build dependencies: started\n",
      "  Installing build dependencies: finished with status 'done'\n",
      "  Getting requirements to build wheel: started\n",
      "  Getting requirements to build wheel: finished with status 'done'\n",
      "  Preparing metadata (pyproject.toml): started\n",
      "  Preparing metadata (pyproject.toml): finished with status 'done'\n",
      "Collecting pygetwindow>=0.0.5 (from PyAutoGUI)\n",
      "  Downloading PyGetWindow-0.0.9.tar.gz (9.7 kB)\n",
      "  Preparing metadata (setup.py): started\n",
      "  Preparing metadata (setup.py): finished with status 'done'\n",
      "Collecting mouseinfo (from PyAutoGUI)\n",
      "  Downloading MouseInfo-0.1.3.tar.gz (10 kB)\n",
      "  Preparing metadata (setup.py): started\n",
      "  Preparing metadata (setup.py): finished with status 'done'\n",
      "Collecting pyrect (from pygetwindow>=0.0.5->PyAutoGUI)\n",
      "  Downloading PyRect-0.2.0.tar.gz (17 kB)\n",
      "  Preparing metadata (setup.py): started\n",
      "  Preparing metadata (setup.py): finished with status 'done'\n",
      "Collecting pyperclip (from mouseinfo->PyAutoGUI)\n",
      "  Downloading pyperclip-1.9.0.tar.gz (20 kB)\n",
      "  Preparing metadata (setup.py): started\n",
      "  Preparing metadata (setup.py): finished with status 'done'\n",
      "Building wheels for collected packages: PyAutoGUI, pygetwindow, pyscreeze, pytweening, mouseinfo, pymsgbox, pyperclip, pyrect\n",
      "  Building wheel for PyAutoGUI (pyproject.toml): started\n",
      "  Building wheel for PyAutoGUI (pyproject.toml): finished with status 'done'\n",
      "  Created wheel for PyAutoGUI: filename=pyautogui-0.9.54-py3-none-any.whl size=37707 sha256=316469b0f139a7aa5e895164735b11f09c738b725de2aaeed941c267bdb1387a\n",
      "  Stored in directory: c:\\users\\adithi\\appdata\\local\\pip\\cache\\wheels\\d9\\d6\\47\\04075995b093ecc87c212c9a3dbd34e59456c6fe504d65c3e4\n",
      "  Building wheel for pygetwindow (setup.py): started\n",
      "  Building wheel for pygetwindow (setup.py): finished with status 'done'\n",
      "  Created wheel for pygetwindow: filename=PyGetWindow-0.0.9-py3-none-any.whl size=11081 sha256=d76c2da7fd6b778f0107d08138aac4913ba1349a15819ad642791462bdf30ac6\n",
      "  Stored in directory: c:\\users\\adithi\\appdata\\local\\pip\\cache\\wheels\\b3\\39\\81\\34dd7a2eca5f885f1f6e2796761970daf66a2d98ac1904f5f4\n",
      "  Building wheel for pyscreeze (pyproject.toml): started\n",
      "  Building wheel for pyscreeze (pyproject.toml): finished with status 'done'\n",
      "  Created wheel for pyscreeze: filename=pyscreeze-1.0.1-py3-none-any.whl size=14481 sha256=93234da4107c054bae7d9364ba2e15088d4d964a2ba22deeb913526a163f2feb\n",
      "  Stored in directory: c:\\users\\adithi\\appdata\\local\\pip\\cache\\wheels\\cd\\3a\\c2\\7f2839239a069aa3c9564f6777cbb29d733720ef673f104f0d\n",
      "  Building wheel for pytweening (setup.py): started\n",
      "  Building wheel for pytweening (setup.py): finished with status 'done'\n",
      "  Created wheel for pytweening: filename=pytweening-1.2.0-py3-none-any.whl size=8029 sha256=93b3864f8f3ade75240ffe25252464f89e7bf3ff9afb718323522662364a06be\n",
      "  Stored in directory: c:\\users\\adithi\\appdata\\local\\pip\\cache\\wheels\\23\\d5\\13\\4e9bdadbfe3c78e47c675e7410c0eed2fbb63c5ea6cf1b40e7\n",
      "  Building wheel for mouseinfo (setup.py): started\n",
      "  Building wheel for mouseinfo (setup.py): finished with status 'done'\n",
      "  Created wheel for mouseinfo: filename=MouseInfo-0.1.3-py3-none-any.whl size=10903 sha256=b61bf257c85eac04b520a5a2ad73ce477506d3dc9220019ef3f0de795190e75c\n",
      "  Stored in directory: c:\\users\\adithi\\appdata\\local\\pip\\cache\\wheels\\b1\\9b\\f3\\08650eb7f00af32f07789f3c6a101e0d7fc762b9891ae843bb\n",
      "  Building wheel for pymsgbox (pyproject.toml): started\n",
      "  Building wheel for pymsgbox (pyproject.toml): finished with status 'done'\n",
      "  Created wheel for pymsgbox: filename=pymsgbox-1.0.9-py3-none-any.whl size=7467 sha256=3758a25a97e31ec1cdd677c639ec4da96d06283eafbab6ace6495819e303e6b4\n",
      "  Stored in directory: c:\\users\\adithi\\appdata\\local\\pip\\cache\\wheels\\55\\e7\\aa\\239163543708d1e15c3d9a1b89dbfe3954b0929a6df2951b83\n",
      "  Building wheel for pyperclip (setup.py): started\n",
      "  Building wheel for pyperclip (setup.py): finished with status 'done'\n",
      "  Created wheel for pyperclip: filename=pyperclip-1.9.0-py3-none-any.whl size=11019 sha256=58caeb4089546c1f5db0f279d3b384198d31de6b7fead6a9454cc0101624141f\n",
      "  Stored in directory: c:\\users\\adithi\\appdata\\local\\pip\\cache\\wheels\\e0\\e8\\fc\\8ab8aa326e33bc066ccd5f3ca9646eab4299881af933f94f09\n",
      "  Building wheel for pyrect (setup.py): started\n",
      "  Building wheel for pyrect (setup.py): finished with status 'done'\n",
      "  Created wheel for pyrect: filename=PyRect-0.2.0-py2.py3-none-any.whl size=11207 sha256=361a4c6d0c3e08fdc0dbcdc06d7ee951dbb801830a405fc160be8d4d2ac1b713\n",
      "  Stored in directory: c:\\users\\adithi\\appdata\\local\\pip\\cache\\wheels\\0b\\1e\\d7\\0c74bd8f60b39c14d84e307398786002aa7ddc905927cc03c5\n",
      "Successfully built PyAutoGUI pygetwindow pyscreeze pytweening mouseinfo pymsgbox pyperclip pyrect\n",
      "Installing collected packages: pytweening, pyscreeze, pyrect, pyperclip, pymsgbox, pygetwindow, mouseinfo, PyAutoGUI\n",
      "Successfully installed PyAutoGUI-0.9.54 mouseinfo-0.1.3 pygetwindow-0.0.9 pymsgbox-1.0.9 pyperclip-1.9.0 pyrect-0.2.0 pyscreeze-1.0.1 pytweening-1.2.0\n",
      "Note: you may need to restart the kernel to use updated packages.\n"
     ]
    }
   ],
   "source": [
    "pip install PyAutoGUI"
   ]
  },
  {
   "cell_type": "code",
   "execution_count": 22,
   "id": "3b045ccb",
   "metadata": {},
   "outputs": [
    {
     "name": "stdout",
     "output_type": "stream",
     "text": [
      "Name: PyAutoGUI\n",
      "Version: 0.9.54\n",
      "Summary: PyAutoGUI lets Python control the mouse and keyboard, and other GUI automation tasks. For Windows, macOS, and Linux, on Python 3 and 2.\n",
      "Home-page: https://github.com/asweigart/pyautogui\n",
      "Author: Al Sweigart\n",
      "Author-email: al@inventwithpython.com\n",
      "License: BSD\n",
      "Location: C:\\Users\\Adithi\\AppData\\Roaming\\Python\\Python312\\site-packages\n",
      "Requires: mouseinfo, pygetwindow, pymsgbox, pyscreeze, pytweening\n",
      "Required-by: \n",
      "Note: you may need to restart the kernel to use updated packages.\n"
     ]
    }
   ],
   "source": [
    "pip show PyAutoGUI"
   ]
  },
  {
   "cell_type": "code",
   "execution_count": 12,
   "id": "dfc4a9fe",
   "metadata": {},
   "outputs": [
    {
     "name": "stdout",
     "output_type": "stream",
     "text": [
      "Defaulting to user installation because normal site-packages is not writeable\n",
      "Collecting pynput\n",
      "  Downloading pynput-1.8.1-py2.py3-none-any.whl.metadata (32 kB)\n",
      "Requirement already satisfied: six in c:\\programdata\\anaconda3\\lib\\site-packages (from pynput) (1.16.0)\n",
      "Downloading pynput-1.8.1-py2.py3-none-any.whl (91 kB)\n",
      "Installing collected packages: pynput\n",
      "Successfully installed pynput-1.8.1\n",
      "Note: you may need to restart the kernel to use updated packages.\n"
     ]
    }
   ],
   "source": [
    "pip install pynput"
   ]
  },
  {
   "cell_type": "code",
   "execution_count": 13,
   "id": "18115125",
   "metadata": {},
   "outputs": [
    {
     "name": "stdout",
     "output_type": "stream",
     "text": [
      "Name: pynput\n",
      "Version: 1.8.1\n",
      "Summary: Monitor and control user input devices\n",
      "Home-page: https://github.com/moses-palmer/pynput\n",
      "Author: Moses Palmér\n",
      "Author-email: moses.palmer@gmail.com\n",
      "License: LGPLv3\n",
      "Location: C:\\Users\\Adithi\\AppData\\Roaming\\Python\\Python312\\site-packages\n",
      "Requires: six\n",
      "Required-by: \n",
      "Note: you may need to restart the kernel to use updated packages.\n"
     ]
    }
   ],
   "source": [
    "pip show pynput"
   ]
  },
  {
   "cell_type": "code",
   "execution_count": 34,
   "id": "995f8dfe",
   "metadata": {},
   "outputs": [],
   "source": [
    "import cv2\n",
    "import mediapipe as mp\n",
    "import util\n",
    "import random\n",
    "import pyautogui\n",
    "from pynput.mouse import Button,Controller"
   ]
  },
  {
   "cell_type": "code",
   "execution_count": 35,
   "id": "43d1ba21",
   "metadata": {},
   "outputs": [],
   "source": [
    "screen_width,screen_height=pyautogui.size()\n",
    "mouse=Controller() \n",
    "mpHands = mp.solutions.hands\n",
    "hands= mpHands.Hands(\n",
    "    static_image_mode=False,\n",
    "    model_complexity=1,\n",
    "    min_detection_confidence=0.7,\n",
    "    min_tracking_confidence=0.7,\n",
    "    max_num_hands=1\n",
    ")"
   ]
  },
  {
   "cell_type": "code",
   "execution_count": 36,
   "id": "767b704c",
   "metadata": {},
   "outputs": [],
   "source": [
    "def find_finger_tip(processed):\n",
    "    if processed.multi_hand_landmarks:\n",
    "        hand_landmarks=processed.multi_hand_landmarks[0]\n",
    "        return hand_landmarks.landmark[mpHands.HandLandmark.INDEX_FINGER_TIP]\n",
    "    return None,None"
   ]
  },
  {
   "cell_type": "code",
   "execution_count": 37,
   "id": "a7e212a8",
   "metadata": {},
   "outputs": [],
   "source": [
    "def is_left_click(landmark_list,thumb_index_dist):\n",
    "    return (util.get_angle(landmark_list[5],landmark_list[6],landmark_list[8])<50 and\n",
    "            util.get_angle(landmark_list[9],landmark_list[10],landmark_list[12])>90 and\n",
    "            thumb_index_dist>50\n",
    "            )"
   ]
  },
  {
   "cell_type": "code",
   "execution_count": 39,
   "id": "8f96751f",
   "metadata": {},
   "outputs": [],
   "source": [
    "def is_right_click(landmark_list,thumb_index_dist):\n",
    "    return (util.get_angle(landmark_list[5],landmark_list[6],landmark_list[8])>90 and\n",
    "            util.get_angle(landmark_list[9],landmark_list[10],landmark_list[12])<50 and\n",
    "            thumb_index_dist>50\n",
    "            )"
   ]
  },
  {
   "cell_type": "code",
   "execution_count": 40,
   "id": "b9f0c722",
   "metadata": {},
   "outputs": [],
   "source": [
    "def is_double_click(landmark_list,thumb_index_dist):\n",
    "    return (util.get_angle(landmark_list[5],landmark_list[6],landmark_list[8])<50 and\n",
    "            util.get_angle(landmark_list[9],landmark_list[10],landmark_list[12])<50 and\n",
    "            thumb_index_dist>50\n",
    "            )"
   ]
  },
  {
   "cell_type": "code",
   "execution_count": 41,
   "id": "95d88920",
   "metadata": {},
   "outputs": [],
   "source": [
    "def is_screenshot(landmark_list,thumb_index_dist):\n",
    "    return (util.get_angle(landmark_list[5],landmark_list[6],landmark_list[8])<50 and\n",
    "            util.get_angle(landmark_list[9],landmark_list[10],landmark_list[12])<50 and\n",
    "            thumb_index_dist<50\n",
    "            )"
   ]
  },
  {
   "cell_type": "code",
   "execution_count": 42,
   "id": "5ee314ed",
   "metadata": {},
   "outputs": [],
   "source": [
    "def move_mouse(index_finger_tip):\n",
    "    if index_finger_tip is not None:\n",
    "        x= int(index_finger_tip.x*screen_width)\n",
    "        y=x= int(index_finger_tip.y*screen_height)\n",
    "        pyautogui.moveTo(x,y)"
   ]
  },
  {
   "cell_type": "code",
   "execution_count": 48,
   "id": "723114bc",
   "metadata": {},
   "outputs": [],
   "source": [
    "def detect_gestures(frame,landmarks_list,processed):  \n",
    "    if len(landmarks_list)>=21:\n",
    "\n",
    "        index_finger_tip=find_finger_tip(processed)\n",
    "        thumb_index_dist = util.get_distance([landmarks_list[4],landmarks_list[5]])\n",
    "\n",
    "        if thumb_index_dist<50 and util.get_angle(landmarks_list[5],landmarks_list[6],landmarks_list[8])>90:\n",
    "            move_mouse(index_finger_tip)\n",
    "\n",
    "        #left click\n",
    "        elif is_left_click(landmarks_list,thumb_index_dist):\n",
    "            mouse.press(Button.left)\n",
    "            mouse.release(Button.left)\n",
    "            cv2.putText(frame,\"Left Click\",(50,50),cv2.FONT_HERSHEY_SIMPLEX,1,(0,255,0),2)\n",
    "\n",
    "        #right click\n",
    "        elif is_right_click(landmarks_list,thumb_index_dist):\n",
    "            mouse.press(Button.right)\n",
    "            mouse.release(Button.right)\n",
    "            cv2.putText(frame,\"Right Click\",(50,50),cv2.FONT_HERSHEY_SIMPLEX,1,(0,0,255),2)\n",
    "\n",
    "        #double click\n",
    "        elif is_double_click(landmarks_list,thumb_index_dist):\n",
    "            pyautogui.doubleClick()\n",
    "            cv2.putText(frame,\"Double Click\",(50,50),cv2.FONT_HERSHEY_SIMPLEX,1,(255,255,0),2)\n",
    "\n",
    "        #screenshot\n",
    "        elif is_screenshot(landmarks_list,thumb_index_dist):\n",
    "            im1=pyautogui.screenshot()\n",
    "            label=random.randint(1,1000)\n",
    "            im1.save(f'my_screenshot_({label}).png')\n",
    "            cv2.putText(frame,\"screen shot taken\",(50,50),cv2.FONT_HERSHEY_SIMPLEX,1,(255,255,0),2)\n"
   ]
  },
  {
   "cell_type": "code",
   "execution_count": 49,
   "id": "589e48bd",
   "metadata": {},
   "outputs": [],
   "source": [
    "def main():\n",
    "    cap=cv2.VideoCapture(0)\n",
    "    draw = mp.solutions.drawing_utils\n",
    "    try:\n",
    "        while cap.isOpened():\n",
    "            ret, frame=cap.read()\n",
    "\n",
    "            if not ret:\n",
    "                break\n",
    "            frame=cv2.flip(frame,1)\n",
    "            frameRGB = cv2.cvtColor(frame,cv2.COLOR_BGR2RGB)\n",
    "            processed = hands.process(frameRGB)\n",
    "\n",
    "            landmarks_list = []\n",
    "            \n",
    "            if processed.multi_hand_landmarks:\n",
    "                hand_landmarks=processed.multi_hand_landmarks[0]\n",
    "                draw.draw_landmarks(frame,hand_landmarks, mpHands.HAND_CONNECTIONS)\n",
    "\n",
    "                for lm in hand_landmarks.landmark:\n",
    "                    landmarks_list.append((lm.x,lm.y))\n",
    "\n",
    "            detect_gestures(frame,landmarks_list,processed)   \n",
    "\n",
    "            cv2.imshow('frame',frame)\n",
    "            if cv2.waitKey(1) & 0xFF == ord('q'):\n",
    "                break\n",
    "    finally:\n",
    "        cap.release()\n",
    "        cv2.destroyAllWindows()\n",
    "\n",
    "if __name__=='__main__':\n",
    "    main()"
   ]
  },
  {
   "cell_type": "code",
   "execution_count": null,
   "id": "3beda746",
   "metadata": {},
   "outputs": [],
   "source": []
  }
 ],
 "metadata": {
  "kernelspec": {
   "display_name": "base",
   "language": "python",
   "name": "python3"
  },
  "language_info": {
   "codemirror_mode": {
    "name": "ipython",
    "version": 3
   },
   "file_extension": ".py",
   "mimetype": "text/x-python",
   "name": "python",
   "nbconvert_exporter": "python",
   "pygments_lexer": "ipython3",
   "version": "3.12.7"
  }
 },
 "nbformat": 4,
 "nbformat_minor": 5
}
